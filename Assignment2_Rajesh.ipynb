{
 "cells": [
  {
   "cell_type": "code",
   "execution_count": 13,
   "metadata": {},
   "outputs": [
    {
     "data": {
      "text/plain": [
       "600"
      ]
     },
     "execution_count": 13,
     "metadata": {},
     "output_type": "execute_result"
    }
   ],
   "source": [
    "# 1.1 Myreduce function\n",
    "\n",
    "\n",
    "def myreduce(multiplyfunc, seq):\n",
    "\n",
    "   res = seq[0]\n",
    "   for i in seq[1:]:\n",
    "      res = multiplyfunc(res, i)\n",
    "   return res\n",
    "\n",
    "def multi(x,y): return x * y\n",
    "\n",
    "#Calling myreduce function\n",
    "\n",
    "myreduce(multi, [100,2,3])\n"
   ]
  },
  {
   "cell_type": "code",
   "execution_count": 12,
   "metadata": {},
   "outputs": [
    {
     "data": {
      "text/plain": [
       "[2, 4, 6]"
      ]
     },
     "execution_count": 12,
     "metadata": {},
     "output_type": "execute_result"
    }
   ],
   "source": [
    "# 1.2 Myfilter Function\n",
    "\n",
    "def myfilter(evenfun, seq):\n",
    "\n",
    " res = []\n",
    "\n",
    " for i in seq:\n",
    "  if evenfun(i):\n",
    "   res.append(i)\n",
    "\n",
    " return res\n",
    "\n",
    "def even(x):\n",
    " if (x % 2) == 0: \n",
    "  return True \n",
    " else: \n",
    "  return False\n",
    "\n",
    "#Calling myfilter function\n",
    "\n",
    "myfilter(even, [1,2,3,4,5,6])"
   ]
  },
  {
   "cell_type": "code",
   "execution_count": 23,
   "metadata": {},
   "outputs": [
    {
     "name": "stdout",
     "output_type": "stream",
     "text": [
      "['A', 'C', 'A', 'D', 'G', 'I', 'L', 'D']\n"
     ]
    }
   ],
   "source": [
    "# 2 Implement List comprehensions to produce the following lists.\n",
    "\n",
    "#['A', 'C', 'A', 'D', 'G', 'I', ’L’, ‘ D’] \n",
    "my_list=\"ACADGILD\"\n",
    "\n",
    "\n",
    "output = [i for i in my_list]\n",
    "\n",
    "print(list(output))\n"
   ]
  },
  {
   "cell_type": "code",
   "execution_count": 155,
   "metadata": {},
   "outputs": [
    {
     "name": "stdout",
     "output_type": "stream",
     "text": [
      "['x', 'xx', 'xxx', 'xxxx', 'y', 'yy', 'yyy', 'yyyy', 'z', 'zz', 'zzz', 'zzzz']\n"
     ]
    }
   ],
   "source": [
    "\n",
    "my_list= [\"x\",\"y\",\"z\"] #intialize tbe string xyz\n",
    "\n",
    "output = [i*y for i in my_list for y in range(1,5)]\n",
    "print(list(output))"
   ]
  },
  {
   "cell_type": "code",
   "execution_count": 103,
   "metadata": {},
   "outputs": [
    {
     "name": "stdout",
     "output_type": "stream",
     "text": [
      "['x', 'y', 'z', 'xx', 'yy', 'zz', 'xxx', 'yyy', 'zzz', 'xxxx', 'yyyy', 'zzzz']\n"
     ]
    }
   ],
   "source": [
    "my_list= [\"x\",\"y\",\"z\"]\n",
    "\n",
    "output = [st*x for x in range(1,5) for st in my_list]\n",
    "\n",
    "print(list(output))"
   ]
  },
  {
   "cell_type": "code",
   "execution_count": 109,
   "metadata": {},
   "outputs": [
    {
     "name": "stdout",
     "output_type": "stream",
     "text": [
      "[[2], [3], [4], [3], [4], [5], [4], [5], [6]]\n"
     ]
    }
   ],
   "source": [
    "my_list= [2,3,4]\n",
    "output = [[x+n] for x in my_list for n in range(3)]\n",
    "print(list(output))"
   ]
  },
  {
   "cell_type": "code",
   "execution_count": 112,
   "metadata": {},
   "outputs": [
    {
     "name": "stdout",
     "output_type": "stream",
     "text": [
      "[[2, 3, 4, 5], [3, 4, 5, 6], [4, 5, 6, 7], [5, 6, 7, 8]]\n"
     ]
    }
   ],
   "source": [
    "my_list= [2,3,4,5]\n",
    "output = [[x+n for x in my_list] for n in range(4)]\n",
    "print(list(output))"
   ]
  },
  {
   "cell_type": "code",
   "execution_count": 115,
   "metadata": {},
   "outputs": [
    {
     "name": "stdout",
     "output_type": "stream",
     "text": [
      "[(1, 1), (1, 2), (1, 3), (2, 1), (2, 2), (2, 3), (3, 1), (3, 2), (3, 3)]\n"
     ]
    }
   ],
   "source": [
    "my_list = [1,2,3]\n",
    "output = [(x,y) for x in my_list for y in my_list]\n",
    "print(list(output))"
   ]
  },
  {
   "cell_type": "code",
   "execution_count": 36,
   "metadata": {},
   "outputs": [
    {
     "data": {
      "text/plain": [
       "'infrastructures'"
      ]
     },
     "execution_count": 36,
     "metadata": {},
     "output_type": "execute_result"
    }
   ],
   "source": [
    "# 3.0 Implement a function longestWord() that takes a list of words and returns the longest one\n",
    "def longestWord(words):\n",
    "  \n",
    "  for i in reversed(sorted(words, key=len)):\n",
    "        return i\n",
    "        break\n",
    "longestWord([\"canvas\",\"infrastructure\",\"com\",\"infrastructures\"])        "
   ]
  },
  {
   "cell_type": "code",
   "execution_count": 10,
   "metadata": {},
   "outputs": [
    {
     "name": "stdout",
     "output_type": "stream",
     "text": [
      "6.0\n"
     ]
    }
   ],
   "source": [
    "#Write a Python Program(with class concepts) to find the area of the triangle using the below formula\n",
    "class Triangle:\n",
    "\n",
    "    def __init__(self, len_of_sides):\n",
    "          self.len_of_sides= len_of_sides  \n",
    "\n",
    "    def area(self):\n",
    "        a, b, c = self.len_of_sides \n",
    "\n",
    "        # calculate the semi-perimeter\n",
    "        s = (a + b + c) / 2\n",
    "        return (s*(s-a)*(s-b)*(s-c)) ** 0.5\n",
    "    \n",
    "i = Triangle([3, 4, 5])\n",
    "print(i.area())"
   ]
  },
  {
   "cell_type": "code",
   "execution_count": 34,
   "metadata": {},
   "outputs": [
    {
     "data": {
      "text/plain": [
       "['Python', 'multipurpose', 'lanaguage']"
      ]
     },
     "execution_count": 34,
     "metadata": {},
     "output_type": "execute_result"
    }
   ],
   "source": [
    "# function filter_long_words() that takes a list of words and an integer n and returns the list of words that are longer than n. \n",
    "\n",
    "def long_words(n,str):\n",
    "    #wordlen = []\n",
    "    wordsplit = str.split(\" \")\n",
    "    wordlen= list(filter(lambda x: len(x) > n, wordsplit))\n",
    "    return wordlen\n",
    "\n",
    "long_words(2, \"Python is a multipurpose lanaguage\")\n",
    "                 \n",
    "      "
   ]
  },
  {
   "cell_type": "code",
   "execution_count": 13,
   "metadata": {},
   "outputs": [
    {
     "name": "stdout",
     "output_type": "stream",
     "text": [
      "[2, 3, 4]\n"
     ]
    }
   ],
   "source": [
    "# maps list of words into a list of integers representing the lengths of the corresponding words\n",
    "def LengthOfWord(x):\n",
    "    return len(x)\n",
    "\n",
    "wordlen=map(LengthOfWord, (\"ab\",\"cde\",\"erty\"))\n",
    "print(list(wordlen))\n"
   ]
  },
  {
   "cell_type": "code",
   "execution_count": 35,
   "metadata": {},
   "outputs": [
    {
     "data": {
      "text/plain": [
       "True"
      ]
     },
     "execution_count": 35,
     "metadata": {},
     "output_type": "execute_result"
    }
   ],
   "source": [
    "#function which takes a character (i.e. a string of length 1) and returns True if it is a vowel, False otherwise\n",
    "def vowel(str):\n",
    "     \n",
    "    if str in ['a','e','i','o','u']:\n",
    "        return True\n",
    "    else:\n",
    "        return False\n",
    "\n",
    "vowel('a')"
   ]
  }
 ],
 "metadata": {
  "kernelspec": {
   "display_name": "Python 3",
   "language": "python",
   "name": "python3"
  },
  "language_info": {
   "codemirror_mode": {
    "name": "ipython",
    "version": 3
   },
   "file_extension": ".py",
   "mimetype": "text/x-python",
   "name": "python",
   "nbconvert_exporter": "python",
   "pygments_lexer": "ipython3",
   "version": "3.6.5"
  }
 },
 "nbformat": 4,
 "nbformat_minor": 2
}
